{
 "cells": [
  {
   "cell_type": "code",
   "execution_count": 1,
   "id": "9802f88f-a52a-4744-984a-3e8c046ae7e2",
   "metadata": {},
   "outputs": [],
   "source": [
    "import random\n",
    "import math"
   ]
  },
  {
   "cell_type": "code",
   "execution_count": 2,
   "id": "27c8ae1c-95f1-425d-aee5-f7eb220dd4df",
   "metadata": {},
   "outputs": [
    {
     "name": "stdin",
     "output_type": "stream",
     "text": [
      "The convergence criterion:  0.5\n",
      "sentinel value:  10000\n"
     ]
    }
   ],
   "source": [
    "convergence_criterion = float(input(\"The convergence criterion: \"))\n",
    "max_draws = int(input(\"sentinel value: \"))"
   ]
  },
  {
   "cell_type": "code",
   "execution_count": 3,
   "id": "4510732a-a65c-4546-abd5-4626cc2d8b22",
   "metadata": {},
   "outputs": [],
   "source": [
    "inside_circle = 0\n",
    "total_points = 0"
   ]
  },
  {
   "cell_type": "code",
   "execution_count": 4,
   "id": "8775e374-12de-4b01-9d00-f79fe06e5c84",
   "metadata": {},
   "outputs": [
    {
     "name": "stdout",
     "output_type": "stream",
     "text": [
      "The convergence criterion Pi: 4.0, difference: 27.323954%\n"
     ]
    }
   ],
   "source": [
    "while True:\n",
    "    x, y = random.uniform(-1, 1), random.uniform(-1, 1)\n",
    "    total_points += 1\n",
    "\n",
    "    if x**2 + y**2 <= 1:\n",
    "        inside_circle += 1\n",
    "\n",
    "    estimated_pi = (inside_circle / total_points) * 4\n",
    "    \n",
    "    error = abs((estimated_pi - math.pi) / math.pi) * 100\n",
    "\n",
    "    if error < convergence_criterion * 100:\n",
    "        print(f\"The convergence criterion Pi: {estimated_pi}, difference: {error:.6f}%\")\n",
    "        break\n",
    "    if total_points >= max_draws:\n",
    "        print(f\"sentinel value Pi: {estimated_pi}, difference: {error:.6f}%\")\n",
    "        break"
   ]
  },
  {
   "cell_type": "code",
   "execution_count": null,
   "id": "44a6ba1c-bffd-461a-9f22-0bf1a9665015",
   "metadata": {},
   "outputs": [],
   "source": []
  }
 ],
 "metadata": {
  "kernelspec": {
   "display_name": "Python 3 (ipykernel)",
   "language": "python",
   "name": "python3"
  },
  "language_info": {
   "codemirror_mode": {
    "name": "ipython",
    "version": 3
   },
   "file_extension": ".py",
   "mimetype": "text/x-python",
   "name": "python",
   "nbconvert_exporter": "python",
   "pygments_lexer": "ipython3",
   "version": "3.12.7"
  }
 },
 "nbformat": 4,
 "nbformat_minor": 5
}
