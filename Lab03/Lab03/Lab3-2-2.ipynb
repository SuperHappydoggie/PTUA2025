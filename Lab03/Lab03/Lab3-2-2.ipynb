{
 "cells": [
  {
   "cell_type": "code",
   "execution_count": 1,
   "id": "d8004533-f00d-4eae-8697-cba8eb5a6645",
   "metadata": {},
   "outputs": [],
   "source": [
    "import random\n",
    "import math\n",
    "import numpy as np"
   ]
  },
  {
   "cell_type": "code",
   "execution_count": 2,
   "id": "e115c00e-d473-4ac0-9700-689ec1f5640d",
   "metadata": {},
   "outputs": [],
   "source": [
    "convergence_criteria = [0.01, 0.001, 0.0001, 0.00001]"
   ]
  },
  {
   "cell_type": "code",
   "execution_count": 3,
   "id": "935dfc75-b6a7-447f-9d21-06288df43d38",
   "metadata": {},
   "outputs": [],
   "source": [
    "for criterion in convergence_criteria:\n",
    "    draws_required = [] \n",
    "\n",
    "    for _ in range(10):\n",
    "        inside_circle = 0\n",
    "        total_points = 0\n",
    "\n",
    "        while True:\n",
    "            x, y = random.uniform(-1, 1), random.uniform(-1, 1)\n",
    "            total_points += 1\n",
    "            if x**2 + y**2 <= 1:\n",
    "                inside_circle += 1\n",
    "\n",
    "            estimated_pi = (inside_circle / total_points) * 4\n",
    "            error = abs((estimated_pi - math.pi) / math.pi) * 100\n",
    "\n",
    "            if error < criterion * 100:\n",
    "                draws_required.append(total_points)\n",
    "                break"
   ]
  },
  {
   "cell_type": "code",
   "execution_count": 4,
   "id": "a630ff6e-3dba-466d-93b2-77cd69f73f3c",
   "metadata": {},
   "outputs": [],
   "source": [
    "    avg_draws = np.mean(draws_required)\n",
    "    std_dev_draws = np.std(draws_required)"
   ]
  },
  {
   "cell_type": "code",
   "execution_count": 5,
   "id": "9bcaa8f5-4e3a-48c8-afd1-3c10a8801008",
   "metadata": {},
   "outputs": [
    {
     "name": "stdout",
     "output_type": "stream",
     "text": [
      "convergence criteria: 1e-05\n",
      "average number of draws: 1513617.60\n",
      "standard deviation of the number of draws: 3626676.02\n",
      "\n"
     ]
    }
   ],
   "source": [
    "    print(f\"convergence criteria: {criterion}\")\n",
    "    print(f\"average number of draws: {avg_draws:.2f}\")\n",
    "    print(f\"standard deviation of the number of draws: {std_dev_draws:.2f}\\n\")"
   ]
  },
  {
   "cell_type": "code",
   "execution_count": null,
   "id": "39f1df7d-3865-422b-852e-d3771f535680",
   "metadata": {},
   "outputs": [],
   "source": []
  }
 ],
 "metadata": {
  "kernelspec": {
   "display_name": "Python 3 (ipykernel)",
   "language": "python",
   "name": "python3"
  },
  "language_info": {
   "codemirror_mode": {
    "name": "ipython",
    "version": 3
   },
   "file_extension": ".py",
   "mimetype": "text/x-python",
   "name": "python",
   "nbconvert_exporter": "python",
   "pygments_lexer": "ipython3",
   "version": "3.12.7"
  }
 },
 "nbformat": 4,
 "nbformat_minor": 5
}
